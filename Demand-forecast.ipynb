{
 "cells": [
  {
   "cell_type": "markdown",
   "metadata": {},
   "source": [
    "# Libraries"
   ]
  },
  {
   "cell_type": "code",
   "execution_count": 151,
   "metadata": {},
   "outputs": [],
   "source": [
    "#pandas and numpy for data processing\n",
    "import pandas as pd\n",
    "import numpy as np\n",
    "\n",
    "#date processing\n",
    "import calendar\n",
    "from datetime import timedelta\n",
    "\n",
    "#modelling\n",
    "from mlxtend.frequent_patterns import apriori\n",
    "from mlxtend.frequent_patterns import association_rules\n",
    "from sklearn import svm\n",
    "from sklearn.model_selection import train_test_split\n",
    "from sklearn.metrics import r2_score, mean_squared_error, mean_absolute_error, median_absolute_error, explained_variance_score, max_error\n",
    "\n",
    "#for eda, plots and graphs\n",
    "from matplotlib import pyplot\n",
    "import seaborn as sns\n",
    "from matplotlib.ticker import FormatStrFormatter\n",
    "\n",
    "#to remove code warnings\n",
    "import warnings\n",
    "warnings.filterwarnings('ignore')"
   ]
  },
  {
   "cell_type": "code",
   "execution_count": null,
   "metadata": {},
   "outputs": [],
   "source": []
  },
  {
   "cell_type": "markdown",
   "metadata": {},
   "source": [
    "# Pre-Processing and EDA"
   ]
  },
  {
   "cell_type": "code",
   "execution_count": 152,
   "metadata": {},
   "outputs": [
    {
     "data": {
      "text/plain": [
       "Date           object\n",
       "Time           object\n",
       "Transaction     int64\n",
       "Item           object\n",
       "dtype: object"
      ]
     },
     "execution_count": 152,
     "metadata": {},
     "output_type": "execute_result"
    }
   ],
   "source": [
    "#importing data\n",
    "df = pd.read_csv('Dataset\\BreadBasket_DMS.csv')\n",
    "#data types of columns\n",
    "df.dtypes"
   ]
  },
  {
   "cell_type": "code",
   "execution_count": 153,
   "metadata": {},
   "outputs": [
    {
     "data": {
      "text/html": [
       "<div>\n",
       "<style scoped>\n",
       "    .dataframe tbody tr th:only-of-type {\n",
       "        vertical-align: middle;\n",
       "    }\n",
       "\n",
       "    .dataframe tbody tr th {\n",
       "        vertical-align: top;\n",
       "    }\n",
       "\n",
       "    .dataframe thead th {\n",
       "        text-align: right;\n",
       "    }\n",
       "</style>\n",
       "<table border=\"1\" class=\"dataframe\">\n",
       "  <thead>\n",
       "    <tr style=\"text-align: right;\">\n",
       "      <th></th>\n",
       "      <th>Date</th>\n",
       "      <th>Time</th>\n",
       "      <th>Transaction</th>\n",
       "      <th>Item</th>\n",
       "    </tr>\n",
       "  </thead>\n",
       "  <tbody>\n",
       "    <tr>\n",
       "      <th>0</th>\n",
       "      <td>2016-10-30</td>\n",
       "      <td>09:58:11</td>\n",
       "      <td>1</td>\n",
       "      <td>Bread</td>\n",
       "    </tr>\n",
       "    <tr>\n",
       "      <th>1</th>\n",
       "      <td>2016-10-30</td>\n",
       "      <td>10:05:34</td>\n",
       "      <td>2</td>\n",
       "      <td>Scandinavian</td>\n",
       "    </tr>\n",
       "    <tr>\n",
       "      <th>2</th>\n",
       "      <td>2016-10-30</td>\n",
       "      <td>10:05:34</td>\n",
       "      <td>2</td>\n",
       "      <td>Scandinavian</td>\n",
       "    </tr>\n",
       "    <tr>\n",
       "      <th>3</th>\n",
       "      <td>2016-10-30</td>\n",
       "      <td>10:07:57</td>\n",
       "      <td>3</td>\n",
       "      <td>Hot chocolate</td>\n",
       "    </tr>\n",
       "    <tr>\n",
       "      <th>4</th>\n",
       "      <td>2016-10-30</td>\n",
       "      <td>10:07:57</td>\n",
       "      <td>3</td>\n",
       "      <td>Jam</td>\n",
       "    </tr>\n",
       "  </tbody>\n",
       "</table>\n",
       "</div>"
      ],
      "text/plain": [
       "         Date      Time  Transaction           Item\n",
       "0  2016-10-30  09:58:11            1          Bread\n",
       "1  2016-10-30  10:05:34            2   Scandinavian\n",
       "2  2016-10-30  10:05:34            2   Scandinavian\n",
       "3  2016-10-30  10:07:57            3  Hot chocolate\n",
       "4  2016-10-30  10:07:57            3            Jam"
      ]
     },
     "execution_count": 153,
     "metadata": {},
     "output_type": "execute_result"
    }
   ],
   "source": [
    "df.head()"
   ]
  },
  {
   "cell_type": "code",
   "execution_count": 154,
   "metadata": {},
   "outputs": [
    {
     "data": {
      "text/plain": [
       "9684"
      ]
     },
     "execution_count": 154,
     "metadata": {},
     "output_type": "execute_result"
    }
   ],
   "source": [
    "df['Transaction'].max()"
   ]
  },
  {
   "cell_type": "markdown",
   "metadata": {},
   "source": [
    "# Sanity Checks"
   ]
  },
  {
   "cell_type": "markdown",
   "metadata": {},
   "source": [
    "##  Checking for null feilds"
   ]
  },
  {
   "cell_type": "code",
   "execution_count": 155,
   "metadata": {},
   "outputs": [
    {
     "name": "stdout",
     "output_type": "stream",
     "text": [
      "0\n",
      "0\n",
      "0\n",
      "0\n"
     ]
    }
   ],
   "source": [
    "for col in df.columns:\n",
    "    print(df[col].isnull().sum())"
   ]
  },
  {
   "cell_type": "markdown",
   "metadata": {},
   "source": [
    "## Unique items"
   ]
  },
  {
   "cell_type": "code",
   "execution_count": 156,
   "metadata": {},
   "outputs": [
    {
     "data": {
      "text/plain": [
       "array(['Adjustment', 'Afternoon with the baker', 'Alfajores',\n",
       "       'Argentina Night', 'Art Tray', 'Bacon', 'Baguette', 'Bakewell',\n",
       "       'Bare Popcorn', 'Basket', 'Bowl Nic Pitt', 'Bread',\n",
       "       'Bread Pudding', 'Brioche and salami', 'Brownie', 'Cake',\n",
       "       'Caramel bites', 'Cherry me Dried fruit', 'Chicken Stew',\n",
       "       'Chicken sand', 'Chimichurri Oil', 'Chocolates',\n",
       "       'Christmas common', 'Coffee', 'Coffee granules ', 'Coke',\n",
       "       'Cookies', 'Crepes', 'Crisps', 'Drinking chocolate spoons ',\n",
       "       'Duck egg', 'Dulce de Leche', 'Eggs', \"Ella's Kitchen Pouches\",\n",
       "       'Empanadas', 'Extra Salami or Feta', 'Fairy Doors', 'Farm House',\n",
       "       'Focaccia', 'Frittata', 'Fudge', 'Gift voucher',\n",
       "       'Gingerbread syrup', 'Granola', 'Hack the stack',\n",
       "       'Half slice Monster ', 'Hearty & Seasonal', 'Honey',\n",
       "       'Hot chocolate', 'Jam', 'Jammie Dodgers', 'Juice',\n",
       "       'Keeping It Local', 'Kids biscuit', 'Lemon and coconut',\n",
       "       'Medialuna', 'Mighty Protein', 'Mineral water', 'Mortimer',\n",
       "       'Muesli', 'Muffin', 'My-5 Fruit Shoot', 'NONE', 'Nomad bag',\n",
       "       'Olum & polenta', 'Panatone', 'Pastry', 'Pick and Mix Bowls',\n",
       "       'Pintxos', 'Polenta', 'Postcard', 'Raspberry shortbread sandwich',\n",
       "       'Raw bars', 'Salad', 'Sandwich', 'Scandinavian', 'Scone',\n",
       "       'Siblings', 'Smoothies', 'Soup', 'Spanish Brunch', 'Spread',\n",
       "       'Tacos/Fajita', 'Tartine', 'Tea', 'The BART', 'The Nomad',\n",
       "       'Tiffin', 'Toast', 'Truffles', 'Tshirt', \"Valentine's card\",\n",
       "       'Vegan Feast', 'Vegan mincepie', 'Victorian Sponge'], dtype=object)"
      ]
     },
     "execution_count": 156,
     "metadata": {},
     "output_type": "execute_result"
    }
   ],
   "source": [
    "df['Item'].sort_values().unique()"
   ]
  },
  {
   "cell_type": "code",
   "execution_count": 157,
   "metadata": {},
   "outputs": [
    {
     "data": {
      "text/plain": [
       "95"
      ]
     },
     "execution_count": 157,
     "metadata": {},
     "output_type": "execute_result"
    }
   ],
   "source": [
    "df['Item'].nunique()"
   ]
  },
  {
   "cell_type": "markdown",
   "metadata": {},
   "source": [
    "## Data Duration"
   ]
  },
  {
   "cell_type": "code",
   "execution_count": 158,
   "metadata": {},
   "outputs": [
    {
     "data": {
      "text/plain": [
       "('2016-10-30', '2017-04-09')"
      ]
     },
     "execution_count": 158,
     "metadata": {},
     "output_type": "execute_result"
    }
   ],
   "source": [
    "df['Date'].min(), df['Date'].max()"
   ]
  },
  {
   "cell_type": "markdown",
   "metadata": {},
   "source": [
    "## Total number of transactions"
   ]
  },
  {
   "cell_type": "code",
   "execution_count": 159,
   "metadata": {},
   "outputs": [
    {
     "data": {
      "text/plain": [
       "21293"
      ]
     },
     "execution_count": 159,
     "metadata": {},
     "output_type": "execute_result"
    }
   ],
   "source": [
    "len(df)"
   ]
  },
  {
   "cell_type": "markdown",
   "metadata": {},
   "source": [
    "# Data Cleaning and pre-processing"
   ]
  },
  {
   "cell_type": "markdown",
   "metadata": {},
   "source": [
    "## Removing Null transactions"
   ]
  },
  {
   "cell_type": "code",
   "execution_count": 160,
   "metadata": {},
   "outputs": [
    {
     "data": {
      "text/html": [
       "<div>\n",
       "<style scoped>\n",
       "    .dataframe tbody tr th:only-of-type {\n",
       "        vertical-align: middle;\n",
       "    }\n",
       "\n",
       "    .dataframe tbody tr th {\n",
       "        vertical-align: top;\n",
       "    }\n",
       "\n",
       "    .dataframe thead th {\n",
       "        text-align: right;\n",
       "    }\n",
       "</style>\n",
       "<table border=\"1\" class=\"dataframe\">\n",
       "  <thead>\n",
       "    <tr style=\"text-align: right;\">\n",
       "      <th></th>\n",
       "      <th>Date</th>\n",
       "      <th>Time</th>\n",
       "      <th>Transaction</th>\n",
       "      <th>Item</th>\n",
       "    </tr>\n",
       "  </thead>\n",
       "  <tbody>\n",
       "    <tr>\n",
       "      <th>26</th>\n",
       "      <td>2016-10-30</td>\n",
       "      <td>10:27:21</td>\n",
       "      <td>11</td>\n",
       "      <td>NONE</td>\n",
       "    </tr>\n",
       "    <tr>\n",
       "      <th>38</th>\n",
       "      <td>2016-10-30</td>\n",
       "      <td>10:34:36</td>\n",
       "      <td>15</td>\n",
       "      <td>NONE</td>\n",
       "    </tr>\n",
       "    <tr>\n",
       "      <th>39</th>\n",
       "      <td>2016-10-30</td>\n",
       "      <td>10:34:36</td>\n",
       "      <td>15</td>\n",
       "      <td>NONE</td>\n",
       "    </tr>\n",
       "    <tr>\n",
       "      <th>66</th>\n",
       "      <td>2016-10-30</td>\n",
       "      <td>11:05:30</td>\n",
       "      <td>29</td>\n",
       "      <td>NONE</td>\n",
       "    </tr>\n",
       "    <tr>\n",
       "      <th>80</th>\n",
       "      <td>2016-10-30</td>\n",
       "      <td>11:37:10</td>\n",
       "      <td>37</td>\n",
       "      <td>NONE</td>\n",
       "    </tr>\n",
       "  </tbody>\n",
       "</table>\n",
       "</div>"
      ],
      "text/plain": [
       "          Date      Time  Transaction  Item\n",
       "26  2016-10-30  10:27:21           11  NONE\n",
       "38  2016-10-30  10:34:36           15  NONE\n",
       "39  2016-10-30  10:34:36           15  NONE\n",
       "66  2016-10-30  11:05:30           29  NONE\n",
       "80  2016-10-30  11:37:10           37  NONE"
      ]
     },
     "execution_count": 160,
     "metadata": {},
     "output_type": "execute_result"
    }
   ],
   "source": [
    "df[df['Item'] == 'NONE'].head()"
   ]
  },
  {
   "cell_type": "code",
   "execution_count": 161,
   "metadata": {},
   "outputs": [],
   "source": [
    "df = df[df['Item'] != 'NONE']"
   ]
  },
  {
   "cell_type": "code",
   "execution_count": 162,
   "metadata": {},
   "outputs": [
    {
     "data": {
      "text/plain": [
       "20507"
      ]
     },
     "execution_count": 162,
     "metadata": {},
     "output_type": "execute_result"
    }
   ],
   "source": [
    "len(df)"
   ]
  },
  {
   "cell_type": "markdown",
   "metadata": {},
   "source": [
    "## Date Time Extractions"
   ]
  },
  {
   "cell_type": "code",
   "execution_count": 163,
   "metadata": {},
   "outputs": [],
   "source": [
    "date = pd.to_datetime(df['Date'])\n",
    "\n",
    "df['Year'] = date.dt.year\n",
    "df['Month'] = date.dt.month.apply(lambda x: calendar.month_abbr[x])\n",
    "df['Day'] = date.dt.day\n",
    "\n",
    "weekday_map = ['Mon', 'Tue', 'Wed', 'Thu', 'Fri', 'Sat', 'Sun']\n",
    "df['Weekday'] = date.dt.weekday.apply(lambda x: weekday_map[x])\n",
    "\n",
    "df['Hours'], df['Mins'], df['Secs'] = df['Time'].str.split(':').str"
   ]
  },
  {
   "cell_type": "markdown",
   "metadata": {},
   "source": [
    "## Get top 10 most frequent Items"
   ]
  },
  {
   "cell_type": "code",
   "execution_count": 164,
   "metadata": {},
   "outputs": [
    {
     "data": {
      "text/plain": [
       "['Coffee',\n",
       " 'Bread',\n",
       " 'Tea',\n",
       " 'Cake',\n",
       " 'Pastry',\n",
       " 'Sandwich',\n",
       " 'Medialuna',\n",
       " 'Hot chocolate',\n",
       " 'Cookies',\n",
       " 'Brownie']"
      ]
     },
     "execution_count": 164,
     "metadata": {},
     "output_type": "execute_result"
    }
   ],
   "source": [
    "n = 10\n",
    "items = df['Item'].value_counts()[:n].index.tolist()\n",
    "items"
   ]
  },
  {
   "cell_type": "code",
   "execution_count": 165,
   "metadata": {},
   "outputs": [
    {
     "data": {
      "text/plain": [
       "Coffee          5471\n",
       "Bread           3325\n",
       "Tea             1435\n",
       "Cake            1025\n",
       "Pastry           856\n",
       "                ... \n",
       "Raw bars           1\n",
       "Gift voucher       1\n",
       "Bacon              1\n",
       "Polenta            1\n",
       "The BART           1\n",
       "Name: Item, Length: 94, dtype: int64"
      ]
     },
     "execution_count": 165,
     "metadata": {},
     "output_type": "execute_result"
    }
   ],
   "source": [
    "df['Item'].value_counts()"
   ]
  },
  {
   "cell_type": "code",
   "execution_count": 166,
   "metadata": {},
   "outputs": [
    {
     "data": {
      "text/html": [
       "<div>\n",
       "<style scoped>\n",
       "    .dataframe tbody tr th:only-of-type {\n",
       "        vertical-align: middle;\n",
       "    }\n",
       "\n",
       "    .dataframe tbody tr th {\n",
       "        vertical-align: top;\n",
       "    }\n",
       "\n",
       "    .dataframe thead th {\n",
       "        text-align: right;\n",
       "    }\n",
       "</style>\n",
       "<table border=\"1\" class=\"dataframe\">\n",
       "  <thead>\n",
       "    <tr style=\"text-align: right;\">\n",
       "      <th></th>\n",
       "      <th>Date</th>\n",
       "      <th>Time</th>\n",
       "      <th>Transaction</th>\n",
       "      <th>Item</th>\n",
       "      <th>Year</th>\n",
       "      <th>Month</th>\n",
       "      <th>Day</th>\n",
       "      <th>Weekday</th>\n",
       "      <th>Hours</th>\n",
       "      <th>Mins</th>\n",
       "      <th>Secs</th>\n",
       "    </tr>\n",
       "  </thead>\n",
       "  <tbody>\n",
       "    <tr>\n",
       "      <th>21288</th>\n",
       "      <td>2017-04-09</td>\n",
       "      <td>14:32:58</td>\n",
       "      <td>9682</td>\n",
       "      <td>Coffee</td>\n",
       "      <td>2017</td>\n",
       "      <td>Apr</td>\n",
       "      <td>9</td>\n",
       "      <td>Sun</td>\n",
       "      <td>14</td>\n",
       "      <td>32</td>\n",
       "      <td>58</td>\n",
       "    </tr>\n",
       "    <tr>\n",
       "      <th>21289</th>\n",
       "      <td>2017-04-09</td>\n",
       "      <td>14:32:58</td>\n",
       "      <td>9682</td>\n",
       "      <td>Tea</td>\n",
       "      <td>2017</td>\n",
       "      <td>Apr</td>\n",
       "      <td>9</td>\n",
       "      <td>Sun</td>\n",
       "      <td>14</td>\n",
       "      <td>32</td>\n",
       "      <td>58</td>\n",
       "    </tr>\n",
       "    <tr>\n",
       "      <th>21290</th>\n",
       "      <td>2017-04-09</td>\n",
       "      <td>14:57:06</td>\n",
       "      <td>9683</td>\n",
       "      <td>Coffee</td>\n",
       "      <td>2017</td>\n",
       "      <td>Apr</td>\n",
       "      <td>9</td>\n",
       "      <td>Sun</td>\n",
       "      <td>14</td>\n",
       "      <td>57</td>\n",
       "      <td>06</td>\n",
       "    </tr>\n",
       "    <tr>\n",
       "      <th>21291</th>\n",
       "      <td>2017-04-09</td>\n",
       "      <td>14:57:06</td>\n",
       "      <td>9683</td>\n",
       "      <td>Pastry</td>\n",
       "      <td>2017</td>\n",
       "      <td>Apr</td>\n",
       "      <td>9</td>\n",
       "      <td>Sun</td>\n",
       "      <td>14</td>\n",
       "      <td>57</td>\n",
       "      <td>06</td>\n",
       "    </tr>\n",
       "    <tr>\n",
       "      <th>21292</th>\n",
       "      <td>2017-04-09</td>\n",
       "      <td>15:04:24</td>\n",
       "      <td>9684</td>\n",
       "      <td>Smoothies</td>\n",
       "      <td>2017</td>\n",
       "      <td>Apr</td>\n",
       "      <td>9</td>\n",
       "      <td>Sun</td>\n",
       "      <td>15</td>\n",
       "      <td>04</td>\n",
       "      <td>24</td>\n",
       "    </tr>\n",
       "  </tbody>\n",
       "</table>\n",
       "</div>"
      ],
      "text/plain": [
       "             Date      Time  Transaction       Item  Year Month  Day Weekday  \\\n",
       "21288  2017-04-09  14:32:58         9682     Coffee  2017   Apr    9     Sun   \n",
       "21289  2017-04-09  14:32:58         9682        Tea  2017   Apr    9     Sun   \n",
       "21290  2017-04-09  14:57:06         9683     Coffee  2017   Apr    9     Sun   \n",
       "21291  2017-04-09  14:57:06         9683     Pastry  2017   Apr    9     Sun   \n",
       "21292  2017-04-09  15:04:24         9684  Smoothies  2017   Apr    9     Sun   \n",
       "\n",
       "      Hours Mins Secs  \n",
       "21288    14   32   58  \n",
       "21289    14   32   58  \n",
       "21290    14   57   06  \n",
       "21291    14   57   06  \n",
       "21292    15   04   24  "
      ]
     },
     "execution_count": 166,
     "metadata": {},
     "output_type": "execute_result"
    }
   ],
   "source": [
    "df.tail()"
   ]
  },
  {
   "cell_type": "code",
   "execution_count": 167,
   "metadata": {},
   "outputs": [],
   "source": [
    "df.to_csv('Dataset\\Processed Data.csv', index = False)"
   ]
  },
  {
   "cell_type": "markdown",
   "metadata": {},
   "source": [
    "# Exploratory Data Analysis (EDA)"
   ]
  },
  {
   "cell_type": "code",
   "execution_count": 168,
   "metadata": {},
   "outputs": [],
   "source": [
    "sns.set_context(\"paper\", rc={\"axes.labelsize\":24, \"font.size\":12})"
   ]
  },
  {
   "cell_type": "code",
   "execution_count": 169,
   "metadata": {},
   "outputs": [
    {
     "data": {
      "image/png": "[encoded data removed]",
      "text/plain": [
       "<Figure size 1800x864 with 1 Axes>"
      ]
     },
     "metadata": {
      "needs_background": "light"
     },
     "output_type": "display_data"
    }
   ],
   "source": [
    "fig, ax = pyplot.subplots(figsize=(25,12))\n",
    "\n",
    "sns.countplot(ax = ax, x=\"Item\", data=df[df['Item'].isin(items)], order = items)\n",
    "ax.set_xticklabels(ax.get_xticklabels(),rotation=45, fontsize='x-large')\n",
    "ax.set_yticklabels(ax.get_yticks(), fontsize='x-large')\n",
    "ax.yaxis.set_major_formatter(FormatStrFormatter('%d'))\n",
    "ax.set_xlabel('Item Name',size=24)\n",
    "ax.set_ylabel('Item Frequency',size=24)\n",
    "ax.set_title(\"Most Selling Product\", size = 30)\n",
    "\n",
    "pyplot.show()"
   ]
  },
  {
   "cell_type": "code",
   "execution_count": 170,
   "metadata": {},
   "outputs": [
    {
     "data": {
      "image/png": "[encoded data removed]",
      "text/plain": [
       "<Figure size 720x360 with 1 Axes>"
      ]
     },
     "metadata": {
      "needs_background": "light"
     },
     "output_type": "display_data"
    }
   ],
   "source": [
    "sns.set_context(\"paper\", rc={\"axes.labelsize\":12})\n",
    "\n",
    "fig, ax = pyplot.subplots(figsize=(10,5))\n",
    "\n",
    "ax = sns.countplot(ax = ax, x=\"Weekday\", data=df)\n",
    "\n",
    "ax.set_xticklabels(ax.get_xticklabels(),fontsize='large')\n",
    "ax.set_yticklabels(ax.get_yticks(), fontsize='large')\n",
    "ax.yaxis.set_major_formatter(FormatStrFormatter('%d'))\n",
    "ax.set_title(\"Busiest Weekday\", size = 15)\n",
    "ax.set_ylabel('Transactions')\n",
    "pyplot.show()"
   ]
  },
  {
   "cell_type": "code",
   "execution_count": 171,
   "metadata": {},
   "outputs": [
    {
     "data": {
      "image/png": "[encoded data removed]",
      "text/plain": [
       "<Figure size 720x360 with 1 Axes>"
      ]
     },
     "metadata": {
      "needs_background": "light"
     },
     "output_type": "display_data"
    }
   ],
   "source": [
    "fig, ax = pyplot.subplots(figsize=(10,5))\n",
    "\n",
    "ax = sns.countplot(ax = ax, x=\"Month\", data=df)\n",
    "ax.set_xticklabels(ax.get_xticklabels(),fontsize='large')\n",
    "ax.set_yticklabels(ax.get_yticks(), fontsize='large')\n",
    "ax.yaxis.set_major_formatter(FormatStrFormatter('%d'))\n",
    "ax.set_title(\"Busiest Month\", size = 15)\n",
    "ax.set_ylabel('Transactions')\n",
    "pyplot.show()"
   ]
  },
  {
   "cell_type": "code",
   "execution_count": 172,
   "metadata": {},
   "outputs": [
    {
     "data": {
      "image/png": "[encoded data removed]",
      "text/plain": [
       "<Figure size 1080x360 with 1 Axes>"
      ]
     },
     "metadata": {
      "needs_background": "light"
     },
     "output_type": "display_data"
    }
   ],
   "source": [
    "fig, ax = pyplot.subplots(figsize=(15,5))\n",
    "\n",
    "ax = sns.countplot(ax = ax, x=\"Day\", data=df)\n",
    "ax.set_xticklabels(ax.get_xticklabels(),fontsize='large')\n",
    "ax.set_yticklabels(ax.get_yticks(), fontsize='large')\n",
    "ax.yaxis.set_major_formatter(FormatStrFormatter('%d'))\n",
    "ax.set_title(\"Busiest Day of Month\", size = 15)\n",
    "ax.set_ylabel('Transactions')\n",
    "pyplot.show()"
   ]
  },
  {
   "cell_type": "code",
   "execution_count": 173,
   "metadata": {},
   "outputs": [
    {
     "data": {
      "image/png": "[encoded data removed]",
      "text/plain": [
       "<Figure size 720x360 with 1 Axes>"
      ]
     },
     "metadata": {
      "needs_background": "light"
     },
     "output_type": "display_data"
    }
   ],
   "source": [
    "fig, ax = pyplot.subplots(figsize=(10,5))\n",
    "\n",
    "ax = sns.countplot(ax = ax, x=\"Hours\", data=df)\n",
    "ax.set_xticklabels(ax.get_xticklabels(),fontsize='large')\n",
    "ax.set_yticklabels(ax.get_yticks(), fontsize='large')\n",
    "ax.yaxis.set_major_formatter(FormatStrFormatter('%d'))\n",
    "ax.set_title(\"Busiest Hour of Day\", size = 15)\n",
    "ax.set_ylabel('Transactions')\n",
    "pyplot.show()"
   ]
  },
  {
   "cell_type": "code",
   "execution_count": null,
   "metadata": {},
   "outputs": [],
   "source": []
  },
  {
   "cell_type": "code",
   "execution_count": null,
   "metadata": {},
   "outputs": [],
   "source": []
  },
  {
   "cell_type": "code",
   "execution_count": null,
   "metadata": {},
   "outputs": [],
   "source": []
  },
  {
   "cell_type": "markdown",
   "metadata": {},
   "source": [
    "# Market Basket Analysis"
   ]
  },
  {
   "cell_type": "code",
   "execution_count": 174,
   "metadata": {},
   "outputs": [],
   "source": [
    "#importing data\n",
    "df = pd.read_csv('Dataset\\Processed Data_with_none.csv')"
   ]
  },
  {
   "cell_type": "code",
   "execution_count": 175,
   "metadata": {},
   "outputs": [
    {
     "data": {
      "text/html": [
       "<div>\n",
       "<style scoped>\n",
       "    .dataframe tbody tr th:only-of-type {\n",
       "        vertical-align: middle;\n",
       "    }\n",
       "\n",
       "    .dataframe tbody tr th {\n",
       "        vertical-align: top;\n",
       "    }\n",
       "\n",
       "    .dataframe thead th {\n",
       "        text-align: right;\n",
       "    }\n",
       "</style>\n",
       "<table border=\"1\" class=\"dataframe\">\n",
       "  <thead>\n",
       "    <tr style=\"text-align: right;\">\n",
       "      <th></th>\n",
       "      <th>Date</th>\n",
       "      <th>Time</th>\n",
       "      <th>Transaction</th>\n",
       "      <th>Item</th>\n",
       "      <th>Year</th>\n",
       "      <th>Month</th>\n",
       "      <th>Day</th>\n",
       "      <th>Weekday</th>\n",
       "      <th>Hours</th>\n",
       "      <th>Mins</th>\n",
       "      <th>Secs</th>\n",
       "    </tr>\n",
       "  </thead>\n",
       "  <tbody>\n",
       "    <tr>\n",
       "      <th>0</th>\n",
       "      <td>2016-10-30</td>\n",
       "      <td>09:58:11</td>\n",
       "      <td>1</td>\n",
       "      <td>Bread</td>\n",
       "      <td>2016</td>\n",
       "      <td>Oct</td>\n",
       "      <td>30</td>\n",
       "      <td>Sun</td>\n",
       "      <td>9</td>\n",
       "      <td>58</td>\n",
       "      <td>11</td>\n",
       "    </tr>\n",
       "    <tr>\n",
       "      <th>1</th>\n",
       "      <td>2016-10-30</td>\n",
       "      <td>10:05:34</td>\n",
       "      <td>2</td>\n",
       "      <td>Scandinavian</td>\n",
       "      <td>2016</td>\n",
       "      <td>Oct</td>\n",
       "      <td>30</td>\n",
       "      <td>Sun</td>\n",
       "      <td>10</td>\n",
       "      <td>5</td>\n",
       "      <td>34</td>\n",
       "    </tr>\n",
       "    <tr>\n",
       "      <th>2</th>\n",
       "      <td>2016-10-30</td>\n",
       "      <td>10:05:34</td>\n",
       "      <td>2</td>\n",
       "      <td>Scandinavian</td>\n",
       "      <td>2016</td>\n",
       "      <td>Oct</td>\n",
       "      <td>30</td>\n",
       "      <td>Sun</td>\n",
       "      <td>10</td>\n",
       "      <td>5</td>\n",
       "      <td>34</td>\n",
       "    </tr>\n",
       "    <tr>\n",
       "      <th>3</th>\n",
       "      <td>2016-10-30</td>\n",
       "      <td>10:07:57</td>\n",
       "      <td>3</td>\n",
       "      <td>Hot chocolate</td>\n",
       "      <td>2016</td>\n",
       "      <td>Oct</td>\n",
       "      <td>30</td>\n",
       "      <td>Sun</td>\n",
       "      <td>10</td>\n",
       "      <td>7</td>\n",
       "      <td>57</td>\n",
       "    </tr>\n",
       "    <tr>\n",
       "      <th>4</th>\n",
       "      <td>2016-10-30</td>\n",
       "      <td>10:07:57</td>\n",
       "      <td>3</td>\n",
       "      <td>Jam</td>\n",
       "      <td>2016</td>\n",
       "      <td>Oct</td>\n",
       "      <td>30</td>\n",
       "      <td>Sun</td>\n",
       "      <td>10</td>\n",
       "      <td>7</td>\n",
       "      <td>57</td>\n",
       "    </tr>\n",
       "  </tbody>\n",
       "</table>\n",
       "</div>"
      ],
      "text/plain": [
       "         Date      Time  Transaction           Item  Year Month  Day Weekday  \\\n",
       "0  2016-10-30  09:58:11            1          Bread  2016   Oct   30     Sun   \n",
       "1  2016-10-30  10:05:34            2   Scandinavian  2016   Oct   30     Sun   \n",
       "2  2016-10-30  10:05:34            2   Scandinavian  2016   Oct   30     Sun   \n",
       "3  2016-10-30  10:07:57            3  Hot chocolate  2016   Oct   30     Sun   \n",
       "4  2016-10-30  10:07:57            3            Jam  2016   Oct   30     Sun   \n",
       "\n",
       "   Hours  Mins  Secs  \n",
       "0      9    58    11  \n",
       "1     10     5    34  \n",
       "2     10     5    34  \n",
       "3     10     7    57  \n",
       "4     10     7    57  "
      ]
     },
     "execution_count": 175,
     "metadata": {},
     "output_type": "execute_result"
    }
   ],
   "source": [
    "df.head()"
   ]
  },
  {
   "cell_type": "code",
   "execution_count": 176,
   "metadata": {},
   "outputs": [
    {
     "data": {
      "text/plain": [
       "21293"
      ]
     },
     "execution_count": 176,
     "metadata": {},
     "output_type": "execute_result"
    }
   ],
   "source": [
    "len(df)"
   ]
  },
  {
   "cell_type": "code",
   "execution_count": 177,
   "metadata": {},
   "outputs": [
    {
     "data": {
      "text/plain": [
       "9531"
      ]
     },
     "execution_count": 177,
     "metadata": {},
     "output_type": "execute_result"
    }
   ],
   "source": [
    "df['Transaction'].nunique()"
   ]
  },
  {
   "cell_type": "code",
   "execution_count": 178,
   "metadata": {},
   "outputs": [
    {
     "data": {
      "text/plain": [
       "array(['Adjustment', 'Afternoon with the baker', 'Alfajores',\n",
       "       'Argentina Night', 'Art Tray', 'Bacon', 'Baguette', 'Bakewell',\n",
       "       'Bare Popcorn', 'Basket', 'Bowl Nic Pitt', 'Bread',\n",
       "       'Bread Pudding', 'Brioche and salami', 'Brownie', 'Cake',\n",
       "       'Caramel bites', 'Cherry me Dried fruit', 'Chicken Stew',\n",
       "       'Chicken sand', 'Chimichurri Oil', 'Chocolates',\n",
       "       'Christmas common', 'Coffee', 'Coffee granules ', 'Coke',\n",
       "       'Cookies', 'Crepes', 'Crisps', 'Drinking chocolate spoons ',\n",
       "       'Duck egg', 'Dulce de Leche', 'Eggs', \"Ella's Kitchen Pouches\",\n",
       "       'Empanadas', 'Extra Salami or Feta', 'Fairy Doors', 'Farm House',\n",
       "       'Focaccia', 'Frittata', 'Fudge', 'Gift voucher',\n",
       "       'Gingerbread syrup', 'Granola', 'Hack the stack',\n",
       "       'Half slice Monster ', 'Hearty & Seasonal', 'Honey',\n",
       "       'Hot chocolate', 'Jam', 'Jammie Dodgers', 'Juice',\n",
       "       'Keeping It Local', 'Kids biscuit', 'Lemon and coconut',\n",
       "       'Medialuna', 'Mighty Protein', 'Mineral water', 'Mortimer',\n",
       "       'Muesli', 'Muffin', 'My-5 Fruit Shoot', 'NONE', 'Nomad bag',\n",
       "       'Olum & polenta', 'Panatone', 'Pastry', 'Pick and Mix Bowls',\n",
       "       'Pintxos', 'Polenta', 'Postcard', 'Raspberry shortbread sandwich',\n",
       "       'Raw bars', 'Salad', 'Sandwich', 'Scandinavian', 'Scone',\n",
       "       'Siblings', 'Smoothies', 'Soup', 'Spanish Brunch', 'Spread',\n",
       "       'Tacos/Fajita', 'Tartine', 'Tea', 'The BART', 'The Nomad',\n",
       "       'Tiffin', 'Toast', 'Truffles', 'Tshirt', \"Valentine's card\",\n",
       "       'Vegan Feast', 'Vegan mincepie', 'Victorian Sponge'], dtype=object)"
      ]
     },
     "execution_count": 178,
     "metadata": {},
     "output_type": "execute_result"
    }
   ],
   "source": [
    "df['Item'].sort_values().unique()"
   ]
  },
  {
   "cell_type": "markdown",
   "metadata": {},
   "source": [
    "# Feature extraction"
   ]
  },
  {
   "cell_type": "code",
   "execution_count": 179,
   "metadata": {},
   "outputs": [
    {
     "data": {
      "text/html": [
       "<div>\n",
       "<style scoped>\n",
       "    .dataframe tbody tr th:only-of-type {\n",
       "        vertical-align: middle;\n",
       "    }\n",
       "\n",
       "    .dataframe tbody tr th {\n",
       "        vertical-align: top;\n",
       "    }\n",
       "\n",
       "    .dataframe thead th {\n",
       "        text-align: right;\n",
       "    }\n",
       "</style>\n",
       "<table border=\"1\" class=\"dataframe\">\n",
       "  <thead>\n",
       "    <tr style=\"text-align: right;\">\n",
       "      <th></th>\n",
       "      <th></th>\n",
       "      <th>count</th>\n",
       "    </tr>\n",
       "    <tr>\n",
       "      <th>Transaction</th>\n",
       "      <th>Item</th>\n",
       "      <th></th>\n",
       "    </tr>\n",
       "  </thead>\n",
       "  <tbody>\n",
       "    <tr>\n",
       "      <th>1</th>\n",
       "      <th>Bread</th>\n",
       "      <td>1</td>\n",
       "    </tr>\n",
       "    <tr>\n",
       "      <th>2</th>\n",
       "      <th>Scandinavian</th>\n",
       "      <td>2</td>\n",
       "    </tr>\n",
       "    <tr>\n",
       "      <th rowspan=\"3\" valign=\"top\">3</th>\n",
       "      <th>Cookies</th>\n",
       "      <td>1</td>\n",
       "    </tr>\n",
       "    <tr>\n",
       "      <th>Hot chocolate</th>\n",
       "      <td>1</td>\n",
       "    </tr>\n",
       "    <tr>\n",
       "      <th>Jam</th>\n",
       "      <td>1</td>\n",
       "    </tr>\n",
       "  </tbody>\n",
       "</table>\n",
       "</div>"
      ],
      "text/plain": [
       "                           count\n",
       "Transaction Item                \n",
       "1           Bread              1\n",
       "2           Scandinavian       2\n",
       "3           Cookies            1\n",
       "            Hot chocolate      1\n",
       "            Jam                1"
      ]
     },
     "execution_count": 179,
     "metadata": {},
     "output_type": "execute_result"
    }
   ],
   "source": [
    "x = df[['Transaction','Item']].groupby(['Transaction'])['Item'].value_counts()\n",
    "Y = pd.DataFrame(x)\n",
    "Y = Y.rename(columns={\"Item\": \"count\"})\n",
    "Y.head()"
   ]
  },
  {
   "cell_type": "code",
   "execution_count": 180,
   "metadata": {},
   "outputs": [
    {
     "data": {
      "text/html": [
       "<div>\n",
       "<style scoped>\n",
       "    .dataframe tbody tr th:only-of-type {\n",
       "        vertical-align: middle;\n",
       "    }\n",
       "\n",
       "    .dataframe tbody tr th {\n",
       "        vertical-align: top;\n",
       "    }\n",
       "\n",
       "    .dataframe thead th {\n",
       "        text-align: right;\n",
       "    }\n",
       "</style>\n",
       "<table border=\"1\" class=\"dataframe\">\n",
       "  <thead>\n",
       "    <tr style=\"text-align: right;\">\n",
       "      <th>Item</th>\n",
       "      <th>Transaction</th>\n",
       "      <th>Adjustment</th>\n",
       "      <th>Afternoon with the baker</th>\n",
       "      <th>Alfajores</th>\n",
       "      <th>Argentina Night</th>\n",
       "      <th>Art Tray</th>\n",
       "      <th>Bacon</th>\n",
       "      <th>Baguette</th>\n",
       "      <th>Bakewell</th>\n",
       "      <th>Bare Popcorn</th>\n",
       "      <th>...</th>\n",
       "      <th>The BART</th>\n",
       "      <th>The Nomad</th>\n",
       "      <th>Tiffin</th>\n",
       "      <th>Toast</th>\n",
       "      <th>Truffles</th>\n",
       "      <th>Tshirt</th>\n",
       "      <th>Valentine's card</th>\n",
       "      <th>Vegan Feast</th>\n",
       "      <th>Vegan mincepie</th>\n",
       "      <th>Victorian Sponge</th>\n",
       "    </tr>\n",
       "  </thead>\n",
       "  <tbody>\n",
       "    <tr>\n",
       "      <th>0</th>\n",
       "      <td>1</td>\n",
       "      <td>0.0</td>\n",
       "      <td>0.0</td>\n",
       "      <td>0.0</td>\n",
       "      <td>0.0</td>\n",
       "      <td>0.0</td>\n",
       "      <td>0.0</td>\n",
       "      <td>0.0</td>\n",
       "      <td>0.0</td>\n",
       "      <td>0.0</td>\n",
       "      <td>...</td>\n",
       "      <td>0.0</td>\n",
       "      <td>0.0</td>\n",
       "      <td>0.0</td>\n",
       "      <td>0.0</td>\n",
       "      <td>0.0</td>\n",
       "      <td>0.0</td>\n",
       "      <td>0.0</td>\n",
       "      <td>0.0</td>\n",
       "      <td>0.0</td>\n",
       "      <td>0.0</td>\n",
       "    </tr>\n",
       "    <tr>\n",
       "      <th>1</th>\n",
       "      <td>2</td>\n",
       "      <td>0.0</td>\n",
       "      <td>0.0</td>\n",
       "      <td>0.0</td>\n",
       "      <td>0.0</td>\n",
       "      <td>0.0</td>\n",
       "      <td>0.0</td>\n",
       "      <td>0.0</td>\n",
       "      <td>0.0</td>\n",
       "      <td>0.0</td>\n",
       "      <td>...</td>\n",
       "      <td>0.0</td>\n",
       "      <td>0.0</td>\n",
       "      <td>0.0</td>\n",
       "      <td>0.0</td>\n",
       "      <td>0.0</td>\n",
       "      <td>0.0</td>\n",
       "      <td>0.0</td>\n",
       "      <td>0.0</td>\n",
       "      <td>0.0</td>\n",
       "      <td>0.0</td>\n",
       "    </tr>\n",
       "    <tr>\n",
       "      <th>2</th>\n",
       "      <td>3</td>\n",
       "      <td>0.0</td>\n",
       "      <td>0.0</td>\n",
       "      <td>0.0</td>\n",
       "      <td>0.0</td>\n",
       "      <td>0.0</td>\n",
       "      <td>0.0</td>\n",
       "      <td>0.0</td>\n",
       "      <td>0.0</td>\n",
       "      <td>0.0</td>\n",
       "      <td>...</td>\n",
       "      <td>0.0</td>\n",
       "      <td>0.0</td>\n",
       "      <td>0.0</td>\n",
       "      <td>0.0</td>\n",
       "      <td>0.0</td>\n",
       "      <td>0.0</td>\n",
       "      <td>0.0</td>\n",
       "      <td>0.0</td>\n",
       "      <td>0.0</td>\n",
       "      <td>0.0</td>\n",
       "    </tr>\n",
       "    <tr>\n",
       "      <th>3</th>\n",
       "      <td>4</td>\n",
       "      <td>0.0</td>\n",
       "      <td>0.0</td>\n",
       "      <td>0.0</td>\n",
       "      <td>0.0</td>\n",
       "      <td>0.0</td>\n",
       "      <td>0.0</td>\n",
       "      <td>0.0</td>\n",
       "      <td>0.0</td>\n",
       "      <td>0.0</td>\n",
       "      <td>...</td>\n",
       "      <td>0.0</td>\n",
       "      <td>0.0</td>\n",
       "      <td>0.0</td>\n",
       "      <td>0.0</td>\n",
       "      <td>0.0</td>\n",
       "      <td>0.0</td>\n",
       "      <td>0.0</td>\n",
       "      <td>0.0</td>\n",
       "      <td>0.0</td>\n",
       "      <td>0.0</td>\n",
       "    </tr>\n",
       "    <tr>\n",
       "      <th>4</th>\n",
       "      <td>5</td>\n",
       "      <td>0.0</td>\n",
       "      <td>0.0</td>\n",
       "      <td>0.0</td>\n",
       "      <td>0.0</td>\n",
       "      <td>0.0</td>\n",
       "      <td>0.0</td>\n",
       "      <td>0.0</td>\n",
       "      <td>0.0</td>\n",
       "      <td>0.0</td>\n",
       "      <td>...</td>\n",
       "      <td>0.0</td>\n",
       "      <td>0.0</td>\n",
       "      <td>0.0</td>\n",
       "      <td>0.0</td>\n",
       "      <td>0.0</td>\n",
       "      <td>0.0</td>\n",
       "      <td>0.0</td>\n",
       "      <td>0.0</td>\n",
       "      <td>0.0</td>\n",
       "      <td>0.0</td>\n",
       "    </tr>\n",
       "  </tbody>\n",
       "</table>\n",
       "<p>5 rows × 96 columns</p>\n",
       "</div>"
      ],
      "text/plain": [
       "Item  Transaction  Adjustment  Afternoon with the baker  Alfajores  \\\n",
       "0               1         0.0                       0.0        0.0   \n",
       "1               2         0.0                       0.0        0.0   \n",
       "2               3         0.0                       0.0        0.0   \n",
       "3               4         0.0                       0.0        0.0   \n",
       "4               5         0.0                       0.0        0.0   \n",
       "\n",
       "Item  Argentina Night  Art Tray  Bacon  Baguette  Bakewell  Bare Popcorn  ...  \\\n",
       "0                 0.0       0.0    0.0       0.0       0.0           0.0  ...   \n",
       "1                 0.0       0.0    0.0       0.0       0.0           0.0  ...   \n",
       "2                 0.0       0.0    0.0       0.0       0.0           0.0  ...   \n",
       "3                 0.0       0.0    0.0       0.0       0.0           0.0  ...   \n",
       "4                 0.0       0.0    0.0       0.0       0.0           0.0  ...   \n",
       "\n",
       "Item  The BART  The Nomad  Tiffin  Toast  Truffles  Tshirt  Valentine's card  \\\n",
       "0          0.0        0.0     0.0    0.0       0.0     0.0               0.0   \n",
       "1          0.0        0.0     0.0    0.0       0.0     0.0               0.0   \n",
       "2          0.0        0.0     0.0    0.0       0.0     0.0               0.0   \n",
       "3          0.0        0.0     0.0    0.0       0.0     0.0               0.0   \n",
       "4          0.0        0.0     0.0    0.0       0.0     0.0               0.0   \n",
       "\n",
       "Item  Vegan Feast  Vegan mincepie  Victorian Sponge  \n",
       "0             0.0             0.0               0.0  \n",
       "1             0.0             0.0               0.0  \n",
       "2             0.0             0.0               0.0  \n",
       "3             0.0             0.0               0.0  \n",
       "4             0.0             0.0               0.0  \n",
       "\n",
       "[5 rows x 96 columns]"
      ]
     },
     "execution_count": 180,
     "metadata": {},
     "output_type": "execute_result"
    }
   ],
   "source": [
    "basket = pd.pivot_table(Y, index=['Transaction'],values = 'count',columns='Item', aggfunc='sum').fillna(0).reset_index()\n",
    "basket.head()"
   ]
  },
  {
   "cell_type": "code",
   "execution_count": 181,
   "metadata": {},
   "outputs": [
    {
     "data": {
      "text/plain": [
       "9531"
      ]
     },
     "execution_count": 181,
     "metadata": {},
     "output_type": "execute_result"
    }
   ],
   "source": [
    "len(basket)"
   ]
  },
  {
   "cell_type": "code",
   "execution_count": 182,
   "metadata": {},
   "outputs": [
    {
     "data": {
      "text/html": [
       "<div>\n",
       "<style scoped>\n",
       "    .dataframe tbody tr th:only-of-type {\n",
       "        vertical-align: middle;\n",
       "    }\n",
       "\n",
       "    .dataframe tbody tr th {\n",
       "        vertical-align: top;\n",
       "    }\n",
       "\n",
       "    .dataframe thead th {\n",
       "        text-align: right;\n",
       "    }\n",
       "</style>\n",
       "<table border=\"1\" class=\"dataframe\">\n",
       "  <thead>\n",
       "    <tr style=\"text-align: right;\">\n",
       "      <th>Item</th>\n",
       "      <th>Adjustment</th>\n",
       "      <th>Afternoon with the baker</th>\n",
       "      <th>Alfajores</th>\n",
       "      <th>Argentina Night</th>\n",
       "      <th>Art Tray</th>\n",
       "      <th>Bacon</th>\n",
       "      <th>Baguette</th>\n",
       "      <th>Bakewell</th>\n",
       "      <th>Bare Popcorn</th>\n",
       "      <th>Basket</th>\n",
       "      <th>...</th>\n",
       "      <th>The BART</th>\n",
       "      <th>The Nomad</th>\n",
       "      <th>Tiffin</th>\n",
       "      <th>Toast</th>\n",
       "      <th>Truffles</th>\n",
       "      <th>Tshirt</th>\n",
       "      <th>Valentine's card</th>\n",
       "      <th>Vegan Feast</th>\n",
       "      <th>Vegan mincepie</th>\n",
       "      <th>Victorian Sponge</th>\n",
       "    </tr>\n",
       "  </thead>\n",
       "  <tbody>\n",
       "    <tr>\n",
       "      <th>9526</th>\n",
       "      <td>0</td>\n",
       "      <td>0</td>\n",
       "      <td>0</td>\n",
       "      <td>0</td>\n",
       "      <td>0</td>\n",
       "      <td>0</td>\n",
       "      <td>0</td>\n",
       "      <td>0</td>\n",
       "      <td>0</td>\n",
       "      <td>0</td>\n",
       "      <td>...</td>\n",
       "      <td>0</td>\n",
       "      <td>0</td>\n",
       "      <td>0</td>\n",
       "      <td>0</td>\n",
       "      <td>0</td>\n",
       "      <td>0</td>\n",
       "      <td>0</td>\n",
       "      <td>0</td>\n",
       "      <td>0</td>\n",
       "      <td>0</td>\n",
       "    </tr>\n",
       "    <tr>\n",
       "      <th>9527</th>\n",
       "      <td>0</td>\n",
       "      <td>0</td>\n",
       "      <td>0</td>\n",
       "      <td>0</td>\n",
       "      <td>0</td>\n",
       "      <td>0</td>\n",
       "      <td>0</td>\n",
       "      <td>0</td>\n",
       "      <td>0</td>\n",
       "      <td>0</td>\n",
       "      <td>...</td>\n",
       "      <td>0</td>\n",
       "      <td>0</td>\n",
       "      <td>0</td>\n",
       "      <td>0</td>\n",
       "      <td>1</td>\n",
       "      <td>0</td>\n",
       "      <td>0</td>\n",
       "      <td>0</td>\n",
       "      <td>0</td>\n",
       "      <td>0</td>\n",
       "    </tr>\n",
       "    <tr>\n",
       "      <th>9528</th>\n",
       "      <td>0</td>\n",
       "      <td>0</td>\n",
       "      <td>0</td>\n",
       "      <td>0</td>\n",
       "      <td>0</td>\n",
       "      <td>0</td>\n",
       "      <td>0</td>\n",
       "      <td>0</td>\n",
       "      <td>0</td>\n",
       "      <td>0</td>\n",
       "      <td>...</td>\n",
       "      <td>0</td>\n",
       "      <td>0</td>\n",
       "      <td>0</td>\n",
       "      <td>0</td>\n",
       "      <td>0</td>\n",
       "      <td>0</td>\n",
       "      <td>0</td>\n",
       "      <td>0</td>\n",
       "      <td>0</td>\n",
       "      <td>0</td>\n",
       "    </tr>\n",
       "    <tr>\n",
       "      <th>9529</th>\n",
       "      <td>0</td>\n",
       "      <td>0</td>\n",
       "      <td>0</td>\n",
       "      <td>0</td>\n",
       "      <td>0</td>\n",
       "      <td>0</td>\n",
       "      <td>0</td>\n",
       "      <td>0</td>\n",
       "      <td>0</td>\n",
       "      <td>0</td>\n",
       "      <td>...</td>\n",
       "      <td>0</td>\n",
       "      <td>0</td>\n",
       "      <td>0</td>\n",
       "      <td>0</td>\n",
       "      <td>0</td>\n",
       "      <td>0</td>\n",
       "      <td>0</td>\n",
       "      <td>0</td>\n",
       "      <td>0</td>\n",
       "      <td>0</td>\n",
       "    </tr>\n",
       "    <tr>\n",
       "      <th>9530</th>\n",
       "      <td>0</td>\n",
       "      <td>0</td>\n",
       "      <td>0</td>\n",
       "      <td>0</td>\n",
       "      <td>0</td>\n",
       "      <td>0</td>\n",
       "      <td>0</td>\n",
       "      <td>0</td>\n",
       "      <td>0</td>\n",
       "      <td>0</td>\n",
       "      <td>...</td>\n",
       "      <td>0</td>\n",
       "      <td>0</td>\n",
       "      <td>0</td>\n",
       "      <td>0</td>\n",
       "      <td>0</td>\n",
       "      <td>0</td>\n",
       "      <td>0</td>\n",
       "      <td>0</td>\n",
       "      <td>0</td>\n",
       "      <td>0</td>\n",
       "    </tr>\n",
       "  </tbody>\n",
       "</table>\n",
       "<p>5 rows × 95 columns</p>\n",
       "</div>"
      ],
      "text/plain": [
       "Item  Adjustment  Afternoon with the baker  Alfajores  Argentina Night  \\\n",
       "9526           0                         0          0                0   \n",
       "9527           0                         0          0                0   \n",
       "9528           0                         0          0                0   \n",
       "9529           0                         0          0                0   \n",
       "9530           0                         0          0                0   \n",
       "\n",
       "Item  Art Tray  Bacon  Baguette  Bakewell  Bare Popcorn  Basket  ...  \\\n",
       "9526         0      0         0         0             0       0  ...   \n",
       "9527         0      0         0         0             0       0  ...   \n",
       "9528         0      0         0         0             0       0  ...   \n",
       "9529         0      0         0         0             0       0  ...   \n",
       "9530         0      0         0         0             0       0  ...   \n",
       "\n",
       "Item  The BART  The Nomad  Tiffin  Toast  Truffles  Tshirt  Valentine's card  \\\n",
       "9526         0          0       0      0         0       0                 0   \n",
       "9527         0          0       0      0         1       0                 0   \n",
       "9528         0          0       0      0         0       0                 0   \n",
       "9529         0          0       0      0         0       0                 0   \n",
       "9530         0          0       0      0         0       0                 0   \n",
       "\n",
       "Item  Vegan Feast  Vegan mincepie  Victorian Sponge  \n",
       "9526            0               0                 0  \n",
       "9527            0               0                 0  \n",
       "9528            0               0                 0  \n",
       "9529            0               0                 0  \n",
       "9530            0               0                 0  \n",
       "\n",
       "[5 rows x 95 columns]"
      ]
     },
     "execution_count": 182,
     "metadata": {},
     "output_type": "execute_result"
    }
   ],
   "source": [
    "def encode_units(x):\n",
    "    if x <= 0:\n",
    "        return 0\n",
    "    if x >= 1:\n",
    "        return 1\n",
    "\n",
    "basket_sets = basket.applymap(encode_units)\n",
    "basket_sets.drop('Transaction', inplace=True, axis=1)\n",
    "basket_sets.tail()"
   ]
  },
  {
   "cell_type": "markdown",
   "metadata": {},
   "source": [
    "# Modelling"
   ]
  },
  {
   "cell_type": "code",
   "execution_count": 183,
   "metadata": {},
   "outputs": [],
   "source": [
    "frequent_itemsets = apriori(basket_sets, min_support=0.005, use_colnames=True)"
   ]
  },
  {
   "cell_type": "code",
   "execution_count": 184,
   "metadata": {},
   "outputs": [
    {
     "data": {
      "text/html": [
       "<div>\n",
       "<style scoped>\n",
       "    .dataframe tbody tr th:only-of-type {\n",
       "        vertical-align: middle;\n",
       "    }\n",
       "\n",
       "    .dataframe tbody tr th {\n",
       "        vertical-align: top;\n",
       "    }\n",
       "\n",
       "    .dataframe thead th {\n",
       "        text-align: right;\n",
       "    }\n",
       "</style>\n",
       "<table border=\"1\" class=\"dataframe\">\n",
       "  <thead>\n",
       "    <tr style=\"text-align: right;\">\n",
       "      <th></th>\n",
       "      <th>antecedents</th>\n",
       "      <th>consequents</th>\n",
       "      <th>antecedent support</th>\n",
       "      <th>consequent support</th>\n",
       "      <th>support</th>\n",
       "      <th>confidence</th>\n",
       "      <th>lift</th>\n",
       "      <th>leverage</th>\n",
       "      <th>conviction</th>\n",
       "    </tr>\n",
       "  </thead>\n",
       "  <tbody>\n",
       "    <tr>\n",
       "      <th>0</th>\n",
       "      <td>(Coffee)</td>\n",
       "      <td>(Alfajores)</td>\n",
       "      <td>0.475081</td>\n",
       "      <td>0.036093</td>\n",
       "      <td>0.019515</td>\n",
       "      <td>0.041078</td>\n",
       "      <td>1.138116</td>\n",
       "      <td>0.002368</td>\n",
       "      <td>1.005199</td>\n",
       "    </tr>\n",
       "    <tr>\n",
       "      <th>1</th>\n",
       "      <td>(Alfajores)</td>\n",
       "      <td>(Coffee)</td>\n",
       "      <td>0.036093</td>\n",
       "      <td>0.475081</td>\n",
       "      <td>0.019515</td>\n",
       "      <td>0.540698</td>\n",
       "      <td>1.138116</td>\n",
       "      <td>0.002368</td>\n",
       "      <td>1.142861</td>\n",
       "    </tr>\n",
       "    <tr>\n",
       "      <th>2</th>\n",
       "      <td>(Tea)</td>\n",
       "      <td>(Alfajores)</td>\n",
       "      <td>0.141643</td>\n",
       "      <td>0.036093</td>\n",
       "      <td>0.006715</td>\n",
       "      <td>0.047407</td>\n",
       "      <td>1.313488</td>\n",
       "      <td>0.001603</td>\n",
       "      <td>1.011878</td>\n",
       "    </tr>\n",
       "    <tr>\n",
       "      <th>3</th>\n",
       "      <td>(Alfajores)</td>\n",
       "      <td>(Tea)</td>\n",
       "      <td>0.036093</td>\n",
       "      <td>0.141643</td>\n",
       "      <td>0.006715</td>\n",
       "      <td>0.186047</td>\n",
       "      <td>1.313488</td>\n",
       "      <td>0.001603</td>\n",
       "      <td>1.054553</td>\n",
       "    </tr>\n",
       "    <tr>\n",
       "      <th>4</th>\n",
       "      <td>(Jam)</td>\n",
       "      <td>(Bread)</td>\n",
       "      <td>0.014899</td>\n",
       "      <td>0.324940</td>\n",
       "      <td>0.005036</td>\n",
       "      <td>0.338028</td>\n",
       "      <td>1.040280</td>\n",
       "      <td>0.000195</td>\n",
       "      <td>1.019772</td>\n",
       "    </tr>\n",
       "  </tbody>\n",
       "</table>\n",
       "</div>"
      ],
      "text/plain": [
       "   antecedents  consequents  antecedent support  consequent support   support  \\\n",
       "0     (Coffee)  (Alfajores)            0.475081            0.036093  0.019515   \n",
       "1  (Alfajores)     (Coffee)            0.036093            0.475081  0.019515   \n",
       "2        (Tea)  (Alfajores)            0.141643            0.036093  0.006715   \n",
       "3  (Alfajores)        (Tea)            0.036093            0.141643  0.006715   \n",
       "4        (Jam)      (Bread)            0.014899            0.324940  0.005036   \n",
       "\n",
       "   confidence      lift  leverage  conviction  \n",
       "0    0.041078  1.138116  0.002368    1.005199  \n",
       "1    0.540698  1.138116  0.002368    1.142861  \n",
       "2    0.047407  1.313488  0.001603    1.011878  \n",
       "3    0.186047  1.313488  0.001603    1.054553  \n",
       "4    0.338028  1.040280  0.000195    1.019772  "
      ]
     },
     "execution_count": 184,
     "metadata": {},
     "output_type": "execute_result"
    }
   ],
   "source": [
    "rules = association_rules(frequent_itemsets, metric=\"lift\", min_threshold=1)\n",
    "rules.head()"
   ]
  },
  {
   "cell_type": "markdown",
   "metadata": {},
   "source": [
    "# Plots"
   ]
  },
  {
   "cell_type": "code",
   "execution_count": 185,
   "metadata": {},
   "outputs": [],
   "source": [
    "confidence = [0.6, 0.5, 0.4, 0.3, 0.2, 0.1, 0.08, 0.05, 0.01]\n",
    "support =[0.05, 0.03, 0.01, 0.005]\n",
    "\n",
    "rulesup_5 = [None] * 9\n",
    "rulesup_3 = [None] * 9\n",
    "rulesup_1 = [None] * 9\n",
    "rulesup_ = [None] * 9"
   ]
  },
  {
   "cell_type": "code",
   "execution_count": 186,
   "metadata": {},
   "outputs": [],
   "source": [
    "# Apriori algorithm with a support level of 5%\n",
    "for i in range(0,len(confidence)):\n",
    "    # Apriori algorithm with a support level of 5%\n",
    "    rulesup_5[i] = len(rules[ (rules['support'] >= support[0]) & (rules['confidence'] >= confidence[i] )])\n",
    "    \n",
    "    # Apriori algorithm with a support level of 3%\n",
    "    rulesup_3[i] = len(rules[ (rules['support'] >= support[1]) & (rules['confidence'] >= confidence[i] )])\n",
    "    \n",
    "    # Apriori algorithm with a support level of 1%\n",
    "    rulesup_1[i] = len(rules[ (rules['support'] >= support[2]) & (rules['confidence'] >= confidence[i] )])\n",
    "    \n",
    "    # Apriori algorithm with a support level of 0.5%\n",
    "    rulesup_[i] = len(rules[ (rules['support'] >= support[3]) & (rules['confidence'] >= confidence[i] )])"
   ]
  },
  {
   "cell_type": "code",
   "execution_count": 187,
   "metadata": {},
   "outputs": [
    {
     "data": {
      "image/png": "[encoded data removed]",
      "text/plain": [
       "<Figure size 720x432 with 4 Axes>"
      ]
     },
     "metadata": {
      "needs_background": "light"
     },
     "output_type": "display_data"
    }
   ],
   "source": [
    "fig, axs = pyplot.subplots(2,2, figsize=(10,6))\n",
    "\n",
    "pyplot.subplots_adjust(left=None, bottom=None, right=None, top=None, wspace=None, hspace=0.5)\n",
    "\n",
    "axs[0,0].plot(confidence,rulesup_5, marker='o', color='black')\n",
    "axs[0,0].set_xlabel('Confidence level')\n",
    "axs[0,0].set_ylabel('Number of rules found')\n",
    "axs[0,0].set_title('Apriori with a support level of 5%')\n",
    "axs[0,0].grid()\n",
    "\n",
    "axs[0,1].plot(confidence,rulesup_3, marker='o', color='black')\n",
    "axs[0,1].set_xlabel('Confidence level')\n",
    "axs[0,1].set_ylabel('Number of rules found')\n",
    "axs[0,1].set_title('Apriori with a support level of 3%')\n",
    "axs[0,1].grid()\n",
    "\n",
    "axs[1,0].plot(confidence,rulesup_1, marker='o', color='black')\n",
    "axs[1,0].set_xlabel('Confidence level')\n",
    "axs[1,0].set_ylabel('Number of rules found')\n",
    "axs[1,0].set_title('Apriori with a support level of 1%')\n",
    "axs[1,0].grid()\n",
    "\n",
    "axs[1,1].plot(confidence,rulesup_, marker='o', color='black')\n",
    "axs[1,1].set_xlabel('Confidence level')\n",
    "axs[1,1].set_ylabel('Number of rules found')\n",
    "axs[1,1].set_title('Apriori with a support level of 0.5%')\n",
    "axs[1,1].grid()\n",
    "\n",
    "fig.savefig(\"Apriori support levels.png\")\n",
    "pyplot.show()"
   ]
  },
  {
   "cell_type": "code",
   "execution_count": 188,
   "metadata": {},
   "outputs": [
    {
     "data": {
      "image/png": "[encoded data removed]",
      "text/plain": [
       "<Figure size 576x432 with 1 Axes>"
      ]
     },
     "metadata": {
      "needs_background": "light"
     },
     "output_type": "display_data"
    }
   ],
   "source": [
    "fig, ax = pyplot.subplots(figsize=(8,6))\n",
    "\n",
    "ax.plot(confidence,rulesup_, marker='o', color='orange', label = 'Support level of 0.5%')\n",
    "ax.plot(confidence,rulesup_1, marker='o', color='lightgreen', label = 'Support level of 1%')\n",
    "ax.plot(confidence,rulesup_3, marker='o', color='skyblue', label = 'Support level of 3%')\n",
    "ax.plot(confidence,rulesup_5, marker='o', color='pink', label = 'Support level of 5%')\n",
    "\n",
    "\n",
    "ax.set_xlabel('Confidence level')\n",
    "ax.set_ylabel('Number of rules found')\n",
    "ax.set_title('Apriori with a different support levels')\n",
    "ax.grid()\n",
    "ax.legend()\n",
    "pyplot.show()\n",
    "fig.savefig(\"Apriori with a different support levels.png\")"
   ]
  },
  {
   "cell_type": "code",
   "execution_count": null,
   "metadata": {},
   "outputs": [],
   "source": []
  },
  {
   "cell_type": "markdown",
   "metadata": {},
   "source": [
    "# Sales Forecasting"
   ]
  },
  {
   "cell_type": "code",
   "execution_count": 189,
   "metadata": {},
   "outputs": [],
   "source": [
    "#importing data\n",
    "df = pd.read_csv('Dataset\\Processed Data_with_none.csv')"
   ]
  },
  {
   "cell_type": "code",
   "execution_count": 190,
   "metadata": {},
   "outputs": [
    {
     "data": {
      "text/html": [
       "<div>\n",
       "<style scoped>\n",
       "    .dataframe tbody tr th:only-of-type {\n",
       "        vertical-align: middle;\n",
       "    }\n",
       "\n",
       "    .dataframe tbody tr th {\n",
       "        vertical-align: top;\n",
       "    }\n",
       "\n",
       "    .dataframe thead th {\n",
       "        text-align: right;\n",
       "    }\n",
       "</style>\n",
       "<table border=\"1\" class=\"dataframe\">\n",
       "  <thead>\n",
       "    <tr style=\"text-align: right;\">\n",
       "      <th></th>\n",
       "      <th>Date</th>\n",
       "      <th>Time</th>\n",
       "      <th>Transaction</th>\n",
       "      <th>Item</th>\n",
       "      <th>Year</th>\n",
       "      <th>Month</th>\n",
       "      <th>Day</th>\n",
       "      <th>Weekday</th>\n",
       "      <th>Hours</th>\n",
       "      <th>Mins</th>\n",
       "      <th>Secs</th>\n",
       "    </tr>\n",
       "  </thead>\n",
       "  <tbody>\n",
       "    <tr>\n",
       "      <th>0</th>\n",
       "      <td>2016-10-30</td>\n",
       "      <td>09:58:11</td>\n",
       "      <td>1</td>\n",
       "      <td>Bread</td>\n",
       "      <td>2016</td>\n",
       "      <td>Oct</td>\n",
       "      <td>30</td>\n",
       "      <td>Sun</td>\n",
       "      <td>9</td>\n",
       "      <td>58</td>\n",
       "      <td>11</td>\n",
       "    </tr>\n",
       "    <tr>\n",
       "      <th>1</th>\n",
       "      <td>2016-10-30</td>\n",
       "      <td>10:05:34</td>\n",
       "      <td>2</td>\n",
       "      <td>Scandinavian</td>\n",
       "      <td>2016</td>\n",
       "      <td>Oct</td>\n",
       "      <td>30</td>\n",
       "      <td>Sun</td>\n",
       "      <td>10</td>\n",
       "      <td>5</td>\n",
       "      <td>34</td>\n",
       "    </tr>\n",
       "    <tr>\n",
       "      <th>2</th>\n",
       "      <td>2016-10-30</td>\n",
       "      <td>10:05:34</td>\n",
       "      <td>2</td>\n",
       "      <td>Scandinavian</td>\n",
       "      <td>2016</td>\n",
       "      <td>Oct</td>\n",
       "      <td>30</td>\n",
       "      <td>Sun</td>\n",
       "      <td>10</td>\n",
       "      <td>5</td>\n",
       "      <td>34</td>\n",
       "    </tr>\n",
       "    <tr>\n",
       "      <th>3</th>\n",
       "      <td>2016-10-30</td>\n",
       "      <td>10:07:57</td>\n",
       "      <td>3</td>\n",
       "      <td>Hot chocolate</td>\n",
       "      <td>2016</td>\n",
       "      <td>Oct</td>\n",
       "      <td>30</td>\n",
       "      <td>Sun</td>\n",
       "      <td>10</td>\n",
       "      <td>7</td>\n",
       "      <td>57</td>\n",
       "    </tr>\n",
       "    <tr>\n",
       "      <th>4</th>\n",
       "      <td>2016-10-30</td>\n",
       "      <td>10:07:57</td>\n",
       "      <td>3</td>\n",
       "      <td>Jam</td>\n",
       "      <td>2016</td>\n",
       "      <td>Oct</td>\n",
       "      <td>30</td>\n",
       "      <td>Sun</td>\n",
       "      <td>10</td>\n",
       "      <td>7</td>\n",
       "      <td>57</td>\n",
       "    </tr>\n",
       "  </tbody>\n",
       "</table>\n",
       "</div>"
      ],
      "text/plain": [
       "         Date      Time  Transaction           Item  Year Month  Day Weekday  \\\n",
       "0  2016-10-30  09:58:11            1          Bread  2016   Oct   30     Sun   \n",
       "1  2016-10-30  10:05:34            2   Scandinavian  2016   Oct   30     Sun   \n",
       "2  2016-10-30  10:05:34            2   Scandinavian  2016   Oct   30     Sun   \n",
       "3  2016-10-30  10:07:57            3  Hot chocolate  2016   Oct   30     Sun   \n",
       "4  2016-10-30  10:07:57            3            Jam  2016   Oct   30     Sun   \n",
       "\n",
       "   Hours  Mins  Secs  \n",
       "0      9    58    11  \n",
       "1     10     5    34  \n",
       "2     10     5    34  \n",
       "3     10     7    57  \n",
       "4     10     7    57  "
      ]
     },
     "execution_count": 190,
     "metadata": {},
     "output_type": "execute_result"
    }
   ],
   "source": [
    "df.head()"
   ]
  },
  {
   "cell_type": "markdown",
   "metadata": {},
   "source": [
    "# Model Features"
   ]
  },
  {
   "cell_type": "code",
   "execution_count": 191,
   "metadata": {},
   "outputs": [],
   "source": [
    "df['Date'] = pd.to_datetime(df['Date'])"
   ]
  },
  {
   "cell_type": "code",
   "execution_count": 192,
   "metadata": {},
   "outputs": [],
   "source": [
    "df = df[df['Item'] == 'Coffee']"
   ]
  },
  {
   "cell_type": "code",
   "execution_count": 193,
   "metadata": {},
   "outputs": [
    {
     "data": {
      "text/plain": [
       "5471"
      ]
     },
     "execution_count": 193,
     "metadata": {},
     "output_type": "execute_result"
    }
   ],
   "source": [
    "len(df)"
   ]
  },
  {
   "cell_type": "code",
   "execution_count": 194,
   "metadata": {},
   "outputs": [
    {
     "data": {
      "text/plain": [
       "Date           datetime64[ns]\n",
       "Time                   object\n",
       "Transaction             int64\n",
       "Item                   object\n",
       "Year                    int64\n",
       "Month                  object\n",
       "Day                     int64\n",
       "Weekday                object\n",
       "Hours                   int64\n",
       "Mins                    int64\n",
       "Secs                    int64\n",
       "dtype: object"
      ]
     },
     "execution_count": 194,
     "metadata": {},
     "output_type": "execute_result"
    }
   ],
   "source": [
    "df.dtypes"
   ]
  },
  {
   "cell_type": "code",
   "execution_count": 195,
   "metadata": {},
   "outputs": [],
   "source": [
    "sales = pd.DataFrame(df.groupby('Date')['Date'].count())\n",
    "sales = sales.rename(columns={\"Date\": \"Sales\"})"
   ]
  },
  {
   "cell_type": "code",
   "execution_count": 196,
   "metadata": {},
   "outputs": [
    {
     "data": {
      "text/html": [
       "<div>\n",
       "<style scoped>\n",
       "    .dataframe tbody tr th:only-of-type {\n",
       "        vertical-align: middle;\n",
       "    }\n",
       "\n",
       "    .dataframe tbody tr th {\n",
       "        vertical-align: top;\n",
       "    }\n",
       "\n",
       "    .dataframe thead th {\n",
       "        text-align: right;\n",
       "    }\n",
       "</style>\n",
       "<table border=\"1\" class=\"dataframe\">\n",
       "  <thead>\n",
       "    <tr style=\"text-align: right;\">\n",
       "      <th></th>\n",
       "      <th>Sales</th>\n",
       "    </tr>\n",
       "    <tr>\n",
       "      <th>Date</th>\n",
       "      <th></th>\n",
       "    </tr>\n",
       "  </thead>\n",
       "  <tbody>\n",
       "    <tr>\n",
       "      <th>2016-10-30</th>\n",
       "      <td>33</td>\n",
       "    </tr>\n",
       "    <tr>\n",
       "      <th>2016-10-31</th>\n",
       "      <td>60</td>\n",
       "    </tr>\n",
       "    <tr>\n",
       "      <th>2016-11-01</th>\n",
       "      <td>38</td>\n",
       "    </tr>\n",
       "    <tr>\n",
       "      <th>2016-11-02</th>\n",
       "      <td>42</td>\n",
       "    </tr>\n",
       "    <tr>\n",
       "      <th>2016-11-03</th>\n",
       "      <td>40</td>\n",
       "    </tr>\n",
       "  </tbody>\n",
       "</table>\n",
       "</div>"
      ],
      "text/plain": [
       "            Sales\n",
       "Date             \n",
       "2016-10-30     33\n",
       "2016-10-31     60\n",
       "2016-11-01     38\n",
       "2016-11-02     42\n",
       "2016-11-03     40"
      ]
     },
     "execution_count": 196,
     "metadata": {},
     "output_type": "execute_result"
    }
   ],
   "source": [
    "sales.head()"
   ]
  },
  {
   "cell_type": "code",
   "execution_count": 197,
   "metadata": {},
   "outputs": [
    {
     "data": {
      "text/plain": [
       "(Timestamp('2016-10-30 00:00:00'), Timestamp('2017-04-09 00:00:00'))"
      ]
     },
     "execution_count": 197,
     "metadata": {},
     "output_type": "execute_result"
    }
   ],
   "source": [
    "sdate=df['Date'].min()\n",
    "edate=df['Date'].max()\n",
    "sdate, edate"
   ]
  },
  {
   "cell_type": "code",
   "execution_count": 198,
   "metadata": {},
   "outputs": [
    {
     "data": {
      "text/plain": [
       "DatetimeIndex(['2016-10-30', '2016-10-31', '2016-11-01', '2016-11-02',\n",
       "               '2016-11-03', '2016-11-04', '2016-11-05', '2016-11-06',\n",
       "               '2016-11-07', '2016-11-08',\n",
       "               ...\n",
       "               '2017-03-30', '2017-03-31', '2017-04-01', '2017-04-02',\n",
       "               '2017-04-03', '2017-04-04', '2017-04-05', '2017-04-06',\n",
       "               '2017-04-07', '2017-04-08'],\n",
       "              dtype='datetime64[ns]', length=161, freq='D')"
      ]
     },
     "execution_count": 198,
     "metadata": {},
     "output_type": "execute_result"
    }
   ],
   "source": [
    "date_range = pd.date_range(sdate,edate-timedelta(days=1),freq='d')\n",
    "date_range"
   ]
  },
  {
   "cell_type": "code",
   "execution_count": 199,
   "metadata": {},
   "outputs": [
    {
     "data": {
      "text/plain": [
       "161"
      ]
     },
     "execution_count": 199,
     "metadata": {},
     "output_type": "execute_result"
    }
   ],
   "source": [
    "data_set = pd.DataFrame()\n",
    "data_set['Date'] = date_range\n",
    "data_set= data_set.merge(sales, on = 'Date', how = 'left').fillna(0)\n",
    "len(data_set)"
   ]
  },
  {
   "cell_type": "code",
   "execution_count": 200,
   "metadata": {},
   "outputs": [
    {
     "data": {
      "text/html": [
       "<div>\n",
       "<style scoped>\n",
       "    .dataframe tbody tr th:only-of-type {\n",
       "        vertical-align: middle;\n",
       "    }\n",
       "\n",
       "    .dataframe tbody tr th {\n",
       "        vertical-align: top;\n",
       "    }\n",
       "\n",
       "    .dataframe thead th {\n",
       "        text-align: right;\n",
       "    }\n",
       "</style>\n",
       "<table border=\"1\" class=\"dataframe\">\n",
       "  <thead>\n",
       "    <tr style=\"text-align: right;\">\n",
       "      <th></th>\n",
       "      <th>Sales</th>\n",
       "      <th>Day</th>\n",
       "      <th>Weekday</th>\n",
       "    </tr>\n",
       "  </thead>\n",
       "  <tbody>\n",
       "    <tr>\n",
       "      <th>151</th>\n",
       "      <td>33.0</td>\n",
       "      <td>30</td>\n",
       "      <td>3</td>\n",
       "    </tr>\n",
       "    <tr>\n",
       "      <th>152</th>\n",
       "      <td>41.0</td>\n",
       "      <td>31</td>\n",
       "      <td>4</td>\n",
       "    </tr>\n",
       "    <tr>\n",
       "      <th>153</th>\n",
       "      <td>39.0</td>\n",
       "      <td>1</td>\n",
       "      <td>5</td>\n",
       "    </tr>\n",
       "    <tr>\n",
       "      <th>154</th>\n",
       "      <td>32.0</td>\n",
       "      <td>2</td>\n",
       "      <td>6</td>\n",
       "    </tr>\n",
       "    <tr>\n",
       "      <th>155</th>\n",
       "      <td>35.0</td>\n",
       "      <td>3</td>\n",
       "      <td>0</td>\n",
       "    </tr>\n",
       "    <tr>\n",
       "      <th>156</th>\n",
       "      <td>40.0</td>\n",
       "      <td>4</td>\n",
       "      <td>1</td>\n",
       "    </tr>\n",
       "    <tr>\n",
       "      <th>157</th>\n",
       "      <td>30.0</td>\n",
       "      <td>5</td>\n",
       "      <td>2</td>\n",
       "    </tr>\n",
       "    <tr>\n",
       "      <th>158</th>\n",
       "      <td>27.0</td>\n",
       "      <td>6</td>\n",
       "      <td>3</td>\n",
       "    </tr>\n",
       "    <tr>\n",
       "      <th>159</th>\n",
       "      <td>29.0</td>\n",
       "      <td>7</td>\n",
       "      <td>4</td>\n",
       "    </tr>\n",
       "    <tr>\n",
       "      <th>160</th>\n",
       "      <td>41.0</td>\n",
       "      <td>8</td>\n",
       "      <td>5</td>\n",
       "    </tr>\n",
       "  </tbody>\n",
       "</table>\n",
       "</div>"
      ],
      "text/plain": [
       "     Sales  Day  Weekday\n",
       "151   33.0   30        3\n",
       "152   41.0   31        4\n",
       "153   39.0    1        5\n",
       "154   32.0    2        6\n",
       "155   35.0    3        0\n",
       "156   40.0    4        1\n",
       "157   30.0    5        2\n",
       "158   27.0    6        3\n",
       "159   29.0    7        4\n",
       "160   41.0    8        5"
      ]
     },
     "execution_count": 200,
     "metadata": {},
     "output_type": "execute_result"
    }
   ],
   "source": [
    "#data_set['Month'] = data_set['Date'].dt.month\n",
    "data_set['Day'] = data_set['Date'].dt.day\n",
    "data_set['Weekday'] = data_set['Date'].dt.weekday\n",
    "\n",
    "del data_set['Date']\n",
    "\n",
    "data_set.tail(10)"
   ]
  },
  {
   "cell_type": "markdown",
   "metadata": {},
   "source": [
    "# Modelling"
   ]
  },
  {
   "cell_type": "code",
   "execution_count": 201,
   "metadata": {},
   "outputs": [],
   "source": [
    "X = data_set.drop('Sales', axis=1)\n",
    "y = data_set['Sales']\n",
    "\n",
    "X_train, X_test, y_train, y_test = train_test_split(X, y, test_size=0.2, random_state=42)"
   ]
  },
  {
   "cell_type": "code",
   "execution_count": 202,
   "metadata": {},
   "outputs": [
    {
     "data": {
      "text/plain": [
       "SVR(C=1, cache_size=200, coef0=10, degree=8, epsilon=0.1, gamma='scale',\n",
       "    kernel='linear', max_iter=-1, shrinking=True, tol=0.001, verbose=False)"
      ]
     },
     "execution_count": 202,
     "metadata": {},
     "output_type": "execute_result"
    }
   ],
   "source": [
    "clf = svm.SVR(C=1, kernel='linear', degree=8, gamma='scale', coef0=10)\n",
    "clf.fit(X_train, y_train)"
   ]
  },
  {
   "cell_type": "markdown",
   "metadata": {},
   "source": [
    "# Predictions"
   ]
  },
  {
   "cell_type": "code",
   "execution_count": null,
   "metadata": {},
   "outputs": [],
   "source": []
  },
  {
   "cell_type": "code",
   "execution_count": 203,
   "metadata": {},
   "outputs": [],
   "source": [
    "predictions = clf.predict(X_test)"
   ]
  },
  {
   "cell_type": "code",
   "execution_count": 204,
   "metadata": {},
   "outputs": [
    {
     "data": {
      "text/plain": [
       "array([39.12352941, 31.08823529, 29.01764706, 36.98235294, 31.25294118,\n",
       "       26.93529412, 31.17058824, 29.02941176, 29.18235294, 31.00588235,\n",
       "       35.05294118, 39.00588235, 27.1       , 31.21764706, 30.99411765,\n",
       "       28.92352941, 29.18235294, 26.94705882, 39.20588235, 29.08823529,\n",
       "       35.11176471, 33.06470588, 35.13529412, 29.17058824, 30.91176471,\n",
       "       34.9       , 37.21764706, 38.97058824, 37.13529412, 37.13529412,\n",
       "       33.07647059, 27.07647059, 32.92352941])"
      ]
     },
     "execution_count": 204,
     "metadata": {},
     "output_type": "execute_result"
    }
   ],
   "source": [
    "predictions"
   ]
  },
  {
   "cell_type": "code",
   "execution_count": 205,
   "metadata": {},
   "outputs": [
    {
     "name": "stdout",
     "output_type": "stream",
     "text": [
      "Model fit results:\n",
      "RMSE: 11.433381266844762\n",
      "EVS: 0.1139022689406265\n",
      "MAE: 7.768805704099775\n",
      "MAD: 5.170588235294318\n",
      "ME: 38.97058823529416\n"
     ]
    }
   ],
   "source": [
    "print(f'Model fit results:\\n'\n",
    "      f'RMSE: {np.sqrt(mean_squared_error(y_test, predictions))}'\n",
    "      f'\\nEVS: {explained_variance_score(y_test, predictions)}'f'\\nMAE: {mean_absolute_error(y_test, predictions)}'\n",
    "      f'\\nMAD: {median_absolute_error(y_test, predictions)}'f'\\nME: {max_error(y_test, predictions)}')"
   ]
  },
  {
   "cell_type": "code",
   "execution_count": 206,
   "metadata": {},
   "outputs": [
    {
     "data": {
      "image/png": "[encoded data removed]",
      "text/plain": [
       "<Figure size 576x432 with 1 Axes>"
      ]
     },
     "metadata": {
      "needs_background": "light"
     },
     "output_type": "display_data"
    }
   ],
   "source": [
    "fig, ax = pyplot.subplots(figsize=(8,6))\n",
    "\n",
    "ax.plot(predictions, marker='o', color='orange', label = 'Forcast Sales')\n",
    "ax.plot(y_test.to_list(), marker='o', color='lightgreen', label = 'True Sales')\n",
    "\n",
    "ax.set_xlabel('Day')\n",
    "ax.set_ylabel('Sales')\n",
    "ax.set_title('Model Comparison')\n",
    "ax.grid()\n",
    "ax.legend()\n",
    "pyplot.show()\n",
    "fig.savefig(\"Model Results-Coffee.png\")"
   ]
  },
  {
   "cell_type": "code",
   "execution_count": null,
   "metadata": {},
   "outputs": [],
   "source": []
  },
  {
   "cell_type": "code",
   "execution_count": null,
   "metadata": {},
   "outputs": [],
   "source": []
  },
  {
   "cell_type": "code",
   "execution_count": null,
   "metadata": {},
   "outputs": [],
   "source": []
  },
  {
   "cell_type": "code",
   "execution_count": null,
   "metadata": {},
   "outputs": [],
   "source": []
  },
  {
   "cell_type": "code",
   "execution_count": null,
   "metadata": {},
   "outputs": [],
   "source": []
  }
 ],
 "metadata": {
  "kernelspec": {
   "display_name": "Python 3",
   "language": "python",
   "name": "python3"
  },
  "language_info": {
   "codemirror_mode": {
    "name": "ipython",
    "version": 3
   },
   "file_extension": ".py",
   "mimetype": "text/x-python",
   "name": "python",
   "nbconvert_exporter": "python",
   "pygments_lexer": "ipython3",
   "version": "3.7.3"
  }
 },
 "nbformat": 4,
 "nbformat_minor": 4
}
